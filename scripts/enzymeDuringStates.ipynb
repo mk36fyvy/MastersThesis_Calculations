{
 "metadata": {
  "language_info": {
   "codemirror_mode": {
    "name": "ipython",
    "version": 3
   },
   "file_extension": ".py",
   "mimetype": "text/x-python",
   "name": "python",
   "nbconvert_exporter": "python",
   "pygments_lexer": "ipython3",
   "version": "3.9.0"
  },
  "orig_nbformat": 2,
  "kernelspec": {
   "name": "python390jvsc74a57bd063fd5069d213b44bf678585dea6b12cceca9941eaf7f819626cde1f2670de90d",
   "display_name": "Python 3.9.0 64-bit"
  }
 },
 "nbformat": 4,
 "nbformat_minor": 2,
 "cells": [
  {
   "cell_type": "code",
   "execution_count": 10,
   "metadata": {},
   "outputs": [],
   "source": [
    "import matplotlib.pyplot as plt\n",
    "from matplotlib.pyplot import figure\n",
    "\n",
    "import pandas as pd\n",
    "import numpy as np\n",
    "\n",
    "import os\n",
    "\n",
    "import scipy\n",
    "from sklearn.preprocessing import StandardScaler\n",
    "import scipy.stats"
   ]
  },
  {
   "cell_type": "code",
   "execution_count": 50,
   "metadata": {},
   "outputs": [
    {
     "output_type": "stream",
     "name": "stdout",
     "text": [
      "Number of files: 150\n"
     ]
    },
    {
     "output_type": "execute_result",
     "data": {
      "text/plain": [
       "           CoopM         CoopA        RandM        RandA  count_withGrey  \\\n",
       "Me  63477.806667    620.513333  5610.373333  5603.860000   313247.913333   \n",
       "Un   2380.453333   2393.333333   722.140000   726.273333        0.000000   \n",
       "Ac    644.920000  65552.686667  5784.146667  5795.940000   323348.260000   \n",
       "\n",
       "     count_noGrey  \n",
       "Me  302284.313333  \n",
       "Un   22810.366667  \n",
       "Ac  312166.126667  "
      ],
      "text/html": "<div>\n<style scoped>\n    .dataframe tbody tr th:only-of-type {\n        vertical-align: middle;\n    }\n\n    .dataframe tbody tr th {\n        vertical-align: top;\n    }\n\n    .dataframe thead th {\n        text-align: right;\n    }\n</style>\n<table border=\"1\" class=\"dataframe\">\n  <thead>\n    <tr style=\"text-align: right;\">\n      <th></th>\n      <th>CoopM</th>\n      <th>CoopA</th>\n      <th>RandM</th>\n      <th>RandA</th>\n      <th>count_withGrey</th>\n      <th>count_noGrey</th>\n    </tr>\n  </thead>\n  <tbody>\n    <tr>\n      <th>Me</th>\n      <td>63477.806667</td>\n      <td>620.513333</td>\n      <td>5610.373333</td>\n      <td>5603.860000</td>\n      <td>313247.913333</td>\n      <td>302284.313333</td>\n    </tr>\n    <tr>\n      <th>Un</th>\n      <td>2380.453333</td>\n      <td>2393.333333</td>\n      <td>722.140000</td>\n      <td>726.273333</td>\n      <td>0.000000</td>\n      <td>22810.366667</td>\n    </tr>\n    <tr>\n      <th>Ac</th>\n      <td>644.920000</td>\n      <td>65552.686667</td>\n      <td>5784.146667</td>\n      <td>5795.940000</td>\n      <td>323348.260000</td>\n      <td>312166.126667</td>\n    </tr>\n  </tbody>\n</table>\n</div>"
     },
     "metadata": {},
     "execution_count": 50
    }
   ],
   "source": [
    "filepath=\"../Calculations/sim/cooperative_011821/state_counts\"\n",
    "\n",
    "\n",
    "number_of_files = 0\n",
    "content1 = pd.DataFrame\n",
    "\n",
    "for file in os.listdir(filepath):\n",
    "    if \"stateCounts_\" in file:\n",
    "        with open(os.path.join(filepath,file)) as f:\n",
    "            lines = f.readlines()\n",
    "            # print(lines)\n",
    "            if (content1.empty):\n",
    "                content1 = pd.DataFrame(list(map(lambda x: x.replace(\"\\n\", \"\").replace(\"/\", \"0\").split(\"\\t\"), lines)), index=[\"Me\",\"Un\",\"Ac\"], columns=[\"CoopM\",\"CoopA\",\"RandM\",\"RandA\",\"count_withGrey\",\"count_noGrey\"]).astype(int)\n",
    "                content1 = content1.apply(pd.to_numeric)\n",
    "            else:\n",
    "                content2 = pd.DataFrame(list(map(lambda x: x.replace(\"\\n\", \"\").replace(\"/\", \"0\").split(\"\\t\"), lines)), index=[\"Me\",\"Un\",\"Ac\"], columns=[\"CoopM\",\"CoopA\",\"RandM\",\"RandA\",\"count_withGrey\",\"count_noGrey\"]).astype(int)\n",
    "                content2 = content2.apply(pd.to_numeric)\n",
    "                # print(content1.dtypes)\n",
    "                content1 = sum([content1, content2])\n",
    "                # break\n",
    "            # if len(formatted_state_lengths):\n",
    "            #     ac_statelength += formatted_state_lengths[0].split(\" \")\n",
    "            #     ac_statelength = list(filter(None, ac_statelength))\n",
    "            #     ac_statelength[:] = list(map(int, ac_statelength))\n",
    "                \n",
    "            #     me_statelength += formatted_state_lengths[1].split(\" \")\n",
    "            #     me_statelength = list(filter(None, me_statelength))\n",
    "            #     me_statelength[:] = list(map(int, me_statelength))\n",
    "        number_of_files += 1\n",
    "content1 = content1/number_of_files\n",
    "\n",
    "print('Number of files: {}'.format(number_of_files))\n",
    "content1"
   ]
  },
  {
   "cell_type": "code",
   "execution_count": 55,
   "metadata": {},
   "outputs": [
    {
     "output_type": "execute_result",
     "data": {
      "text/plain": [
       "        CoopM      CoopA     RandM     RandA\n",
       "Me  20.999372   0.205275  1.855992  1.853838\n",
       "Un  10.435840  10.492305  3.165841  3.183962\n",
       "Ac   0.206595  20.999295  1.852907  1.856684"
      ],
      "text/html": "<div>\n<style scoped>\n    .dataframe tbody tr th:only-of-type {\n        vertical-align: middle;\n    }\n\n    .dataframe tbody tr th {\n        vertical-align: top;\n    }\n\n    .dataframe thead th {\n        text-align: right;\n    }\n</style>\n<table border=\"1\" class=\"dataframe\">\n  <thead>\n    <tr style=\"text-align: right;\">\n      <th></th>\n      <th>CoopM</th>\n      <th>CoopA</th>\n      <th>RandM</th>\n      <th>RandA</th>\n    </tr>\n  </thead>\n  <tbody>\n    <tr>\n      <th>Me</th>\n      <td>20.999372</td>\n      <td>0.205275</td>\n      <td>1.855992</td>\n      <td>1.853838</td>\n    </tr>\n    <tr>\n      <th>Un</th>\n      <td>10.435840</td>\n      <td>10.492305</td>\n      <td>3.165841</td>\n      <td>3.183962</td>\n    </tr>\n    <tr>\n      <th>Ac</th>\n      <td>0.206595</td>\n      <td>20.999295</td>\n      <td>1.852907</td>\n      <td>1.856684</td>\n    </tr>\n  </tbody>\n</table>\n</div>"
     },
     "metadata": {},
     "execution_count": 55
    }
   ],
   "source": [
    "enzymeCounts = content1[[\"CoopM\", \"CoopA\",\"RandM\",\"RandA\"]]\n",
    "# enzymeCounts/content1[[\"count (-grey)\"]]\n",
    "enzymeCounts.div(content1.count_noGrey, axis=0)*100"
   ]
  },
  {
   "source": [
    "- Both, random enzymes and cooperative enzymes show very symmetrical behaviour among each other.\n",
    "- random ac and me adders are behaving similarly regardless of the current macrostate. They are indeed stronger in the grey area than in macrostate areas\n",
    "- However, cooperative enzymes are even more active in the grey area than the random enzymes.\n",
    "    - Is there any reason why other than basic association rates?\n",
    "    - If the central area is a random walk, it should show the real association rate ratios right?\n",
    "        - This is not exactly the case, however it is quite close compared to macrostates where coop are tenfold stronger\n"
   ],
   "cell_type": "markdown",
   "metadata": {}
  }
 ]
}